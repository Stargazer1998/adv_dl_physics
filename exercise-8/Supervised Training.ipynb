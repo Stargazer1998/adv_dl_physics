{
 "cells": [
  {
   "cell_type": "code",
   "execution_count": 1,
   "metadata": {},
   "outputs": [],
   "source": [
    "from phi.torch.flow import *\n",
    "import matplotlib.pyplot as plt"
   ]
  },
  {
   "attachments": {},
   "cell_type": "markdown",
   "metadata": {},
   "source": [
    "* Data Generation: Using Provided Sample Solution "
   ]
  },
  {
   "cell_type": "code",
   "execution_count": 2,
   "metadata": {},
   "outputs": [],
   "source": [
    "def potential(position: math.Tensor):\n",
    "    x,y = position.vector\n",
    "    return (x**2 + y**2 - 1) ** 2"
   ]
  },
  {
   "cell_type": "code",
   "execution_count": 3,
   "metadata": {},
   "outputs": [],
   "source": [
    "def step(state0: math.Tensor, x_step: float, force_y: math.Tensor):\n",
    "    update = math.stack([math.expand(x_step, force_y.shape), force_y], channel(vector='x,y'))\n",
    "    return state0 + update"
   ]
  },
  {
   "cell_type": "code",
   "execution_count": 4,
   "metadata": {},
   "outputs": [],
   "source": [
    "def solver(force: math.Tensor, state0: math.Tensor, steps: int, x_step: float):\n",
    "    states = [state0]\n",
    "    for t in range(steps):\n",
    "        states.append(step(states[-1], x_step, force.time[t]))\n",
    "    states = math.stack(states, instance('time'))\n",
    "    return states"
   ]
  },
  {
   "cell_type": "code",
   "execution_count": 5,
   "metadata": {},
   "outputs": [],
   "source": [
    "def loss_function(state_sequence: math.Tensor):\n",
    "    return math.l2_loss(potential(state_sequence.time[1:]))\n",
    "\n",
    "def sequence_loss(force: math.Tensor, state0: math.Tensor, steps: int, x_step: float):\n",
    "    return loss_function(solver(force, state0, int(steps), x_step))"
   ]
  },
  {
   "cell_type": "code",
   "execution_count": 6,
   "metadata": {},
   "outputs": [],
   "source": [
    "gradient_function = math.functional_gradient(sequence_loss, wrt='force')\n",
    "\n",
    "\n",
    "def optimize(point_id: int, state0: math.Tensor, steps: int, x_step: float, iterations: int,\n",
    " learning_rate=0.001, momentum_parameter=0.95) -> math.Tensor:\n",
    "    force = math.random_uniform(batch(state0), spatial(time=steps), low=-0.1, high=0.1)\n",
    "    velocity = math.zeros(force.shape)\n",
    "    for i in range(iterations):\n",
    "        loss, grad = gradient_function(force, state0, steps, x_step)\n",
    "        # print(\"Step: \", i, \" Loss: \", loss)\n",
    "        velocity = momentum_parameter * velocity + learning_rate * grad\n",
    "        force -= velocity\n",
    "    print(f\"Point ID: {point_id + 1} Final Loss: {loss} \")\n",
    "    return force"
   ]
  },
  {
   "cell_type": "code",
   "execution_count": 7,
   "metadata": {},
   "outputs": [
    {
     "name": "stdout",
     "output_type": "stream",
     "text": [
      "Point ID: 1 Final Loss: \u001b[94m0.00048383523\u001b[0m \n",
      "Point ID: 2 Final Loss: \u001b[94m0.00035117654\u001b[0m \n",
      "Point ID: 3 Final Loss: \u001b[94m0.0005049604\u001b[0m \n",
      "Point ID: 4 Final Loss: \u001b[94m0.00039669237\u001b[0m \n",
      "Point ID: 5 Final Loss: \u001b[94m0.0004030297\u001b[0m \n",
      "Point ID: 6 Final Loss: \u001b[94m0.0004351784\u001b[0m \n",
      "Point ID: 7 Final Loss: \u001b[94m0.0002609656\u001b[0m \n",
      "Point ID: 8 Final Loss: \u001b[94m0.0007030522\u001b[0m \n",
      "Point ID: 9 Final Loss: \u001b[94m0.00074803014\u001b[0m \n",
      "Point ID: 10 Final Loss: \u001b[94m0.0003580932\u001b[0m \n",
      "Point ID: 11 Final Loss: \u001b[94m0.00021183862\u001b[0m \n",
      "Point ID: 12 Final Loss: \u001b[94m0.0004524054\u001b[0m \n",
      "Point ID: 13 Final Loss: \u001b[94m0.0005395273\u001b[0m \n",
      "Point ID: 14 Final Loss: \u001b[94m0.00044392707\u001b[0m \n",
      "Point ID: 15 Final Loss: \u001b[94m0.0005035733\u001b[0m \n",
      "Point ID: 16 Final Loss: \u001b[94m9.412134e-05\u001b[0m \n",
      "Point ID: 17 Final Loss: \u001b[94m0.00040711963\u001b[0m \n",
      "Point ID: 18 Final Loss: \u001b[94m0.00048572206\u001b[0m \n",
      "Point ID: 19 Final Loss: \u001b[94m0.00034060984\u001b[0m \n",
      "Point ID: 20 Final Loss: \u001b[94m0.0004125404\u001b[0m \n",
      "Point ID: 21 Final Loss: \u001b[94m0.00019451983\u001b[0m \n",
      "Point ID: 22 Final Loss: \u001b[94m0.0005048705\u001b[0m \n",
      "Point ID: 23 Final Loss: \u001b[94m0.000573476\u001b[0m \n",
      "Point ID: 24 Final Loss: \u001b[94m0.00042183886\u001b[0m \n",
      "Point ID: 25 Final Loss: \u001b[94m0.0004248925\u001b[0m \n",
      "Point ID: 26 Final Loss: \u001b[94m0.0005380823\u001b[0m \n",
      "Point ID: 27 Final Loss: \u001b[94m0.0004858366\u001b[0m \n",
      "Point ID: 28 Final Loss: \u001b[94m0.0005663381\u001b[0m \n",
      "Point ID: 29 Final Loss: \u001b[94m0.00045103798\u001b[0m \n",
      "Point ID: 30 Final Loss: \u001b[94m0.0003591309\u001b[0m \n",
      "Point ID: 31 Final Loss: \u001b[94m0.00031116512\u001b[0m \n",
      "Point ID: 32 Final Loss: \u001b[94m0.00047071246\u001b[0m \n",
      "Point ID: 33 Final Loss: \u001b[94m0.00061251177\u001b[0m \n",
      "Point ID: 34 Final Loss: \u001b[94m0.00043885203\u001b[0m \n",
      "Point ID: 35 Final Loss: \u001b[94m0.00029644917\u001b[0m \n",
      "Point ID: 36 Final Loss: \u001b[94m0.00041312617\u001b[0m \n",
      "Point ID: 37 Final Loss: \u001b[94m0.00045247359\u001b[0m \n",
      "Point ID: 38 Final Loss: \u001b[94m0.00040922032\u001b[0m \n",
      "Point ID: 39 Final Loss: \u001b[94m0.00029577946\u001b[0m \n",
      "Point ID: 40 Final Loss: \u001b[94m0.0005796744\u001b[0m \n",
      "Point ID: 41 Final Loss: \u001b[94m0.00029127672\u001b[0m \n",
      "Point ID: 42 Final Loss: \u001b[94m0.0004398845\u001b[0m \n",
      "Point ID: 43 Final Loss: \u001b[94m0.00035589928\u001b[0m \n",
      "Point ID: 44 Final Loss: \u001b[94m0.0005764268\u001b[0m \n",
      "Point ID: 45 Final Loss: \u001b[94m0.00031035967\u001b[0m \n",
      "Point ID: 46 Final Loss: \u001b[94m0.00045059342\u001b[0m \n",
      "Point ID: 47 Final Loss: \u001b[94m0.0005085531\u001b[0m \n",
      "Point ID: 48 Final Loss: \u001b[94m0.00045618374\u001b[0m \n",
      "Point ID: 49 Final Loss: \u001b[94m0.00033077114\u001b[0m \n",
      "Point ID: 50 Final Loss: \u001b[94m0.00027868027\u001b[0m \n",
      "Point ID: 51 Final Loss: \u001b[94m0.00054154475\u001b[0m \n",
      "Point ID: 52 Final Loss: \u001b[94m0.00056369475\u001b[0m \n",
      "Point ID: 53 Final Loss: \u001b[94m0.00039743722\u001b[0m \n",
      "Point ID: 54 Final Loss: \u001b[94m0.00032180359\u001b[0m \n",
      "Point ID: 55 Final Loss: \u001b[94m0.00057548826\u001b[0m \n",
      "Point ID: 56 Final Loss: \u001b[94m0.00043368735\u001b[0m \n",
      "Point ID: 57 Final Loss: \u001b[94m0.00029938287\u001b[0m \n",
      "Point ID: 58 Final Loss: \u001b[94m0.0005409152\u001b[0m \n",
      "Point ID: 59 Final Loss: \u001b[94m0.00045746219\u001b[0m \n",
      "Point ID: 60 Final Loss: \u001b[94m0.00042040888\u001b[0m \n",
      "Point ID: 61 Final Loss: \u001b[94m0.00034142108\u001b[0m \n",
      "Point ID: 62 Final Loss: \u001b[94m0.0005604482\u001b[0m \n",
      "Point ID: 63 Final Loss: \u001b[94m0.0003749185\u001b[0m \n",
      "Point ID: 64 Final Loss: \u001b[94m0.0003292519\u001b[0m \n",
      "Point ID: 65 Final Loss: \u001b[94m0.00039504695\u001b[0m \n",
      "Point ID: 66 Final Loss: \u001b[94m0.00029680773\u001b[0m \n",
      "Point ID: 67 Final Loss: \u001b[94m0.00050885766\u001b[0m \n",
      "Point ID: 68 Final Loss: \u001b[94m0.00033913908\u001b[0m \n",
      "Point ID: 69 Final Loss: \u001b[94m0.00036665134\u001b[0m \n",
      "Point ID: 70 Final Loss: \u001b[94m0.0005088858\u001b[0m \n",
      "Point ID: 71 Final Loss: \u001b[94m0.00044652337\u001b[0m \n",
      "Point ID: 72 Final Loss: \u001b[94m0.00036592985\u001b[0m \n",
      "Point ID: 73 Final Loss: \u001b[94m0.00024991686\u001b[0m \n",
      "Point ID: 74 Final Loss: \u001b[94m0.00048445637\u001b[0m \n",
      "Point ID: 75 Final Loss: \u001b[94m0.00031070507\u001b[0m \n",
      "Point ID: 76 Final Loss: \u001b[94m0.00023743426\u001b[0m \n",
      "Point ID: 77 Final Loss: \u001b[94m0.0003529484\u001b[0m \n",
      "Point ID: 78 Final Loss: \u001b[94m0.00061061536\u001b[0m \n",
      "Point ID: 79 Final Loss: \u001b[94m0.00050649117\u001b[0m \n",
      "Point ID: 80 Final Loss: \u001b[94m0.00031563843\u001b[0m \n",
      "Point ID: 81 Final Loss: \u001b[94m0.00030806553\u001b[0m \n",
      "Point ID: 82 Final Loss: \u001b[94m0.00046165354\u001b[0m \n",
      "Point ID: 83 Final Loss: \u001b[94m0.0013277224\u001b[0m \n",
      "Point ID: 84 Final Loss: \u001b[94m0.00038752836\u001b[0m \n",
      "Point ID: 85 Final Loss: \u001b[94m0.00075035053\u001b[0m \n",
      "Point ID: 86 Final Loss: \u001b[94m0.0003433939\u001b[0m \n",
      "Point ID: 87 Final Loss: \u001b[94m0.00056607806\u001b[0m \n",
      "Point ID: 88 Final Loss: \u001b[94m0.00040997492\u001b[0m \n",
      "Point ID: 89 Final Loss: \u001b[94m0.00032027336\u001b[0m \n",
      "Point ID: 90 Final Loss: \u001b[94m0.00020129609\u001b[0m \n",
      "Point ID: 91 Final Loss: \u001b[94m0.0004461619\u001b[0m \n",
      "Point ID: 92 Final Loss: \u001b[94m0.0007284631\u001b[0m \n",
      "Point ID: 93 Final Loss: \u001b[94m0.0003267969\u001b[0m \n",
      "Point ID: 94 Final Loss: \u001b[94m0.00030817016\u001b[0m \n",
      "Point ID: 95 Final Loss: \u001b[94m0.0003326154\u001b[0m \n",
      "Point ID: 96 Final Loss: \u001b[94m0.0007752649\u001b[0m \n",
      "Point ID: 97 Final Loss: \u001b[94m0.00042731108\u001b[0m \n",
      "Point ID: 98 Final Loss: \u001b[94m0.0003382396\u001b[0m \n",
      "Point ID: 99 Final Loss: \u001b[94m0.0004515419\u001b[0m \n",
      "Point ID: 100 Final Loss: \u001b[94m0.0004278275\u001b[0m \n"
     ]
    }
   ],
   "source": [
    "N = 20\n",
    "X_STEP = 0.1\n",
    "ITERATIONS = 500  \n",
    "starting_points = math.tensor((-1, math.random_uniform(instance(points = 100), low=-0.01, high=0.01)),\n",
    "                              channel(vector='x,y'))\n",
    "opt_force_vectors = [optimize(idx, starting_point, N, X_STEP, ITERATIONS) \n",
    "             for idx, starting_point in enumerate(starting_points.points)]"
   ]
  },
  {
   "cell_type": "code",
   "execution_count": 8,
   "metadata": {},
   "outputs": [],
   "source": [
    "opt_force_vectors = math.stack(opt_force_vectors, dim=batch(points = 100)) # network target"
   ]
  },
  {
   "cell_type": "code",
   "execution_count": 13,
   "metadata": {},
   "outputs": [],
   "source": [
    "starting_points_f = math.stack(starting_points.vector[1], dim=batch(points = 100)) # network input"
   ]
  },
  {
   "attachments": {},
   "cell_type": "markdown",
   "metadata": {},
   "source": [
    "* Network Training"
   ]
  },
  {
   "cell_type": "code",
   "execution_count": 117,
   "metadata": {},
   "outputs": [
    {
     "data": {
      "text/plain": [
       "DenseNet(\n",
       "  (linear0): Linear(in_features=1, out_features=10, bias=True)\n",
       "  (linear_out): Linear(in_features=10, out_features=20, bias=True)\n",
       ")"
      ]
     },
     "execution_count": 117,
     "metadata": {},
     "output_type": "execute_result"
    }
   ],
   "source": [
    "nn = dense_net(in_channels=1, out_channels=20, layers=[10], activation='ReLU')\n",
    "nn"
   ]
  },
  {
   "cell_type": "code",
   "execution_count": 118,
   "metadata": {},
   "outputs": [],
   "source": [
    "def mse_loss(input: Tensor, target: Tensor):\n",
    "    prediction = math.native_call(nn, input)\n",
    "    return math.l2_loss(prediction - target) / len(target[0])"
   ]
  },
  {
   "cell_type": "code",
   "execution_count": 119,
   "metadata": {},
   "outputs": [],
   "source": [
    "optimizer = adam(net=nn, learning_rate=.01)"
   ]
  },
  {
   "cell_type": "code",
   "execution_count": 120,
   "metadata": {},
   "outputs": [
    {
     "name": "stdout",
     "output_type": "stream",
     "text": [
      "Initial loss: \u001b[92m(pointsᵇ=100)\u001b[0m \u001b[94m0.032 ± 0.034\u001b[0m \u001b[37m(3e-02...4e-01)\u001b[0m\n",
      "Final loss: \u001b[92m(pointsᵇ=100)\u001b[0m \u001b[94m0.032 ± 0.034\u001b[0m \u001b[37m(3e-02...4e-01)\u001b[0m\n"
     ]
    }
   ],
   "source": [
    "print(f\"Initial loss: {mse_loss(starting_points_f, opt_force_vectors)}\")\n",
    "for i in range(1500):\n",
    "    loss = update_weights(nn, optimizer, mse_loss, input=starting_points_f, target=opt_force_vectors)\n",
    "print(f\"Final loss: {loss}\")"
   ]
  },
  {
   "cell_type": "code",
   "execution_count": 121,
   "metadata": {},
   "outputs": [],
   "source": [
    "test_points = math.random_uniform(batch(points = 25), low=-.01, high=0.01)"
   ]
  },
  {
   "cell_type": "code",
   "execution_count": 122,
   "metadata": {},
   "outputs": [
    {
     "data": {
      "image/png": "[encoded data removed]",
      "text/plain": [
       "<Figure size 640x480 with 1 Axes>"
      ]
     },
     "metadata": {},
     "output_type": "display_data"
    }
   ],
   "source": [
    "x,y = np.meshgrid(np.linspace(-1, 1, 100), np.linspace(-1, 1, 100))\n",
    "z = (x ** 2 + y ** 2  - 1) ** 2\n",
    "plt.imshow(z, extent = [-1.2, 1.2, -1.2, 1.2])\n",
    "x_traj = [-1]\n",
    "for i in range(20):\n",
    "    x_traj.append(x_traj[-1] + X_STEP)\n",
    "\n",
    "for i in range(25):\n",
    "    f = math.native_call(nn, test_points.points[i])\n",
    "    y_traj = [test_points.points[0]]\n",
    "    for i in range(20):\n",
    "       y_traj.append(y_traj[-1] + f[i])\n",
    "    plt.plot(x_traj, y_traj)\n"
   ]
  },
  {
   "attachments": {},
   "cell_type": "markdown",
   "metadata": {},
   "source": [
    "* Differentiable Physics Training "
   ]
  },
  {
   "cell_type": "code",
   "execution_count": 158,
   "metadata": {},
   "outputs": [],
   "source": [
    "class PyhsicalSolverLayer(torch.nn.Module):\n",
    "    def __init__(self):\n",
    "        super(PyhsicalSolverLayer, self).__init__()\n",
    "    \n",
    "    def forward(self,\n",
    "                starting_point: torch.Tensor, \n",
    "                del_x: torch.Tensor, \n",
    "                force_vec: torch.Tensor):\n",
    "        num_steps = len(force_vec)\n",
    "        traj = torch.zeros((num_steps + 1, 2))\n",
    "        traj[0] = starting_point\n",
    "        for i in range(num_steps):\n",
    "            traj[i + 1][0] = traj[i][0] + del_x\n",
    "            traj[i + 1][1] = traj[i][1] + force_vec[i]\n",
    "        return traj"
   ]
  },
  {
   "cell_type": "code",
   "execution_count": 159,
   "metadata": {},
   "outputs": [],
   "source": [
    "class DiffPyhsicsModel(torch.nn.Module):\n",
    "    def __init__(self):\n",
    "        super(DiffPyhsicsModel, self).__init__()\n",
    "        self.hidden_layer = torch.nn.Linear(1, 10)\n",
    "        self.output_layer = torch.nn.Linear(10, 20)\n",
    "        self.solver_layer = PyhsicalSolverLayer()\n",
    "\n",
    "    def forward(self,  \n",
    "                state0: torch.Tensor, \n",
    "                steps: int, \n",
    "                x_step: torch.Tensor):\n",
    "        force = state0[1] # network input \n",
    "        force = self.hidden_layer(force)\n",
    "        force = torch.relu(force)\n",
    "        force = self.output_layer(force) # output of network: force vector\n",
    "        traj = self.solver_layer(force, state0, steps, x_step)\n",
    "        return traj"
   ]
  },
  {
   "cell_type": "code",
   "execution_count": 160,
   "metadata": {},
   "outputs": [],
   "source": [
    "class PyhsicalLoss(torch.nn.Module):\n",
    "    def __init__(self):\n",
    "        super(PyhsicalLoss, self).__init__()\\\n",
    "    \n",
    "    def potential(sequence : torch.Tensor):\n",
    "        x2y2 = torch.square(sequence) # [x ^ 2, y ^ 2]\n",
    "        x2y2_sum = torch.sum(x2y2, 1) # [x ^ 2 + y ^ 2]\n",
    "        x2y2_subs = torch.sub(x2y2_sum, torch.Tensor([1.])) # [x ^ 2 + y ^ 2 -1]\n",
    "        return torch.square(x2y2_subs)# [(x ^ 2 + y ^ 2 -1) ^ 2]\n",
    "    \n",
    "    def forward(sequence: torch.Tensor):\n",
    "        return torch.nn.MSELoss(potential(sequence))"
   ]
  },
  {
   "cell_type": "code",
   "execution_count": 162,
   "metadata": {},
   "outputs": [],
   "source": [
    "starting_points = torch.zeros((100,2))"
   ]
  },
  {
   "cell_type": "code",
   "execution_count": 190,
   "metadata": {},
   "outputs": [],
   "source": [
    "starting_points[:,0] = -1\n",
    "r1 = -.01\n",
    "r2 = .01\n",
    "starting_points[:,1] = torch.rand(100) * (r2 - r1) - r2"
   ]
  },
  {
   "cell_type": "code",
   "execution_count": 161,
   "metadata": {},
   "outputs": [],
   "source": [
    "solver_involved_network = DiffPyhsicsModel()\n",
    "physical_loss = PyhsicalLoss()\n",
    "optimizer_1 = torch.optim.Adam(solver_involved_network.parameters(), lr=1e-2)"
   ]
  },
  {
   "cell_type": "code",
   "execution_count": 157,
   "metadata": {},
   "outputs": [
    {
     "name": "stdout",
     "output_type": "stream",
     "text": [
      "\u001b[92m(pointsⁱ=100)\u001b[0m \u001b[94m4.94e-04 ± 5.7e-03\u001b[0m \u001b[37m(-1e-02...1e-02)\u001b[0m\n"
     ]
    },
    {
     "ename": "TypeError",
     "evalue": "NativeTensor.__float__ returned non-float (type NotImplementedType)",
     "output_type": "error",
     "traceback": [
      "\u001b[0;31m---------------------------------------------------------------------------\u001b[0m",
      "\u001b[0;31mTypeError\u001b[0m                                 Traceback (most recent call last)",
      "Cell \u001b[0;32mIn[157], line 3\u001b[0m\n\u001b[1;32m      1\u001b[0m f0 \u001b[39m=\u001b[39m starting_points\u001b[39m.\u001b[39mvector[\u001b[39m1\u001b[39m]\n\u001b[1;32m      2\u001b[0m \u001b[39mfor\u001b[39;00m i \u001b[39min\u001b[39;00m \u001b[39mrange\u001b[39m(\u001b[39m1500\u001b[39m): \n\u001b[0;32m----> 3\u001b[0m     traj_pred \u001b[39m=\u001b[39m solver_involved_network(starting_points, \u001b[39m20\u001b[39m, X_STEP)\n\u001b[1;32m      4\u001b[0m     loss \u001b[39m=\u001b[39m physical_loss(traj_pred)\n\u001b[1;32m      5\u001b[0m     optimizer_1\u001b[39m.\u001b[39mzero_grad()\n",
      "File \u001b[0;32m~/miniconda3/envs/torch/lib/python3.11/site-packages/torch/nn/modules/module.py:1501\u001b[0m, in \u001b[0;36mModule._call_impl\u001b[0;34m(self, *args, **kwargs)\u001b[0m\n\u001b[1;32m   1496\u001b[0m \u001b[39m# If we don't have any hooks, we want to skip the rest of the logic in\u001b[39;00m\n\u001b[1;32m   1497\u001b[0m \u001b[39m# this function, and just call forward.\u001b[39;00m\n\u001b[1;32m   1498\u001b[0m \u001b[39mif\u001b[39;00m \u001b[39mnot\u001b[39;00m (\u001b[39mself\u001b[39m\u001b[39m.\u001b[39m_backward_hooks \u001b[39mor\u001b[39;00m \u001b[39mself\u001b[39m\u001b[39m.\u001b[39m_backward_pre_hooks \u001b[39mor\u001b[39;00m \u001b[39mself\u001b[39m\u001b[39m.\u001b[39m_forward_hooks \u001b[39mor\u001b[39;00m \u001b[39mself\u001b[39m\u001b[39m.\u001b[39m_forward_pre_hooks\n\u001b[1;32m   1499\u001b[0m         \u001b[39mor\u001b[39;00m _global_backward_pre_hooks \u001b[39mor\u001b[39;00m _global_backward_hooks\n\u001b[1;32m   1500\u001b[0m         \u001b[39mor\u001b[39;00m _global_forward_hooks \u001b[39mor\u001b[39;00m _global_forward_pre_hooks):\n\u001b[0;32m-> 1501\u001b[0m     \u001b[39mreturn\u001b[39;00m forward_call(\u001b[39m*\u001b[39margs, \u001b[39m*\u001b[39m\u001b[39m*\u001b[39mkwargs)\n\u001b[1;32m   1502\u001b[0m \u001b[39m# Do not call functions when jit is used\u001b[39;00m\n\u001b[1;32m   1503\u001b[0m full_backward_hooks, non_full_backward_hooks \u001b[39m=\u001b[39m [], []\n",
      "Cell \u001b[0;32mIn[154], line 14\u001b[0m, in \u001b[0;36mDiffPyhsicsModel.forward\u001b[0;34m(self, state0, steps, x_step)\u001b[0m\n\u001b[1;32m     12\u001b[0m force \u001b[39m=\u001b[39m state0[\u001b[39m1\u001b[39m] \u001b[39m# network input \u001b[39;00m\n\u001b[1;32m     13\u001b[0m \u001b[39mprint\u001b[39m(force)\n\u001b[0;32m---> 14\u001b[0m force \u001b[39m=\u001b[39m torch\u001b[39m.\u001b[39mtensor(\u001b[39mfloat\u001b[39m(force))\n\u001b[1;32m     15\u001b[0m force \u001b[39m=\u001b[39m \u001b[39mself\u001b[39m\u001b[39m.\u001b[39mhidden_layer(force)\n\u001b[1;32m     16\u001b[0m force \u001b[39m=\u001b[39m torch\u001b[39m.\u001b[39mrelu(force)\n",
      "\u001b[0;31mTypeError\u001b[0m: NativeTensor.__float__ returned non-float (type NotImplementedType)"
     ]
    }
   ],
   "source": [
    "f0 = starting_points.vector[1]\n",
    "for i in range(1500): \n",
    "    traj_pred = solver_involved_network(starting_points, 20, X_STEP)\n",
    "    loss = physical_loss(traj_pred)\n",
    "    optimizer_1.zero_grad()\n",
    "    loss.backward()\n",
    "    optimizer_1.step()\n",
    "    if(i + 1) % 100 == 0:\n",
    "        print(f\"Iter: {i + 1} loss: {loss}\")"
   ]
  },
  {
   "cell_type": "code",
   "execution_count": 138,
   "metadata": {},
   "outputs": [],
   "source": [
    "f0 = starting_points.points[0][1]"
   ]
  },
  {
   "cell_type": "code",
   "execution_count": 139,
   "metadata": {},
   "outputs": [
    {
     "data": {
      "text/plain": [
       "\u001b[94m0.006962212\u001b[0m"
      ]
     },
     "execution_count": 139,
     "metadata": {},
     "output_type": "execute_result"
    }
   ],
   "source": [
    "f0"
   ]
  },
  {
   "cell_type": "code",
   "execution_count": 140,
   "metadata": {},
   "outputs": [
    {
     "data": {
      "text/plain": [
       "phi.math._tensors.NativeTensor"
      ]
     },
     "execution_count": 140,
     "metadata": {},
     "output_type": "execute_result"
    }
   ],
   "source": [
    "type(f0)"
   ]
  },
  {
   "cell_type": "code",
   "execution_count": 144,
   "metadata": {},
   "outputs": [
    {
     "data": {
      "text/plain": [
       "0.006962211802601814"
      ]
     },
     "execution_count": 144,
     "metadata": {},
     "output_type": "execute_result"
    }
   ],
   "source": [
    "float(f0)"
   ]
  },
  {
   "cell_type": "code",
   "execution_count": 145,
   "metadata": {},
   "outputs": [
    {
     "data": {
      "text/plain": [
       "tensor(0.0070)"
      ]
     },
     "execution_count": 145,
     "metadata": {},
     "output_type": "execute_result"
    }
   ],
   "source": [
    "torch.tensor(float(f0))"
   ]
  },
  {
   "cell_type": "code",
   "execution_count": null,
   "metadata": {},
   "outputs": [],
   "source": []
  }
 ],
 "metadata": {
  "kernelspec": {
   "display_name": "torch",
   "language": "python",
   "name": "python3"
  },
  "language_info": {
   "codemirror_mode": {
    "name": "ipython",
    "version": 3
   },
   "file_extension": ".py",
   "mimetype": "text/x-python",
   "name": "python",
   "nbconvert_exporter": "python",
   "pygments_lexer": "ipython3",
   "version": "3.11.3"
  },
  "orig_nbformat": 4
 },
 "nbformat": 4,
 "nbformat_minor": 2
}
