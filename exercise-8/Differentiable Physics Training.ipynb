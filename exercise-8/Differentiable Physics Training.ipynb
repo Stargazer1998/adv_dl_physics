{
 "cells": [
  {
   "cell_type": "code",
   "execution_count": 1,
   "metadata": {},
   "outputs": [],
   "source": [
    "import torch\n",
    "import matplotlib.pyplot as plt\n",
    "import numpy as np"
   ]
  },
  {
   "cell_type": "code",
   "execution_count": 2,
   "metadata": {},
   "outputs": [],
   "source": [
    "# to integrate the solver to network\n",
    "class PyhsicalSolverLayer(torch.nn.Module):\n",
    "    def __init__(self):\n",
    "        super(PyhsicalSolverLayer, self).__init__()\n",
    "    \n",
    "    def forward(self,\n",
    "                starting_points: torch.Tensor, \n",
    "                del_x: torch.Tensor, \n",
    "                force_vec: torch.Tensor):\n",
    "        batch_size = starting_points.size(0) # deal with batch_size > 1\n",
    "        num_steps = force_vec.size(1)\n",
    "        traj = torch.zeros((batch_size, num_steps + 1 ,2))\n",
    "        traj[:, 0,: ] = starting_points # set each of the batches\n",
    "        for i in range(num_steps):\n",
    "            traj[:, i + 1, 0] = traj[:, i, 0] + del_x.unsqueeze(0)\n",
    "            traj[:, i + 1, 1] = traj[:, i, 1] + force_vec[:, i]\n",
    "        return traj"
   ]
  },
  {
   "cell_type": "code",
   "execution_count": 3,
   "metadata": {},
   "outputs": [],
   "source": [
    "class DiffPyhsicsModel(torch.nn.Module):\n",
    "    def __init__(self):\n",
    "        super(DiffPyhsicsModel, self).__init__()\n",
    "        self.hidden_layer = torch.nn.Linear(1, 10)\n",
    "        self.output_layer = torch.nn.Linear(10, 20)\n",
    "        self.solver_layer = PyhsicalSolverLayer()\n",
    "\n",
    "    def forward(self,  \n",
    "                state0: torch.Tensor, \n",
    "                steps: int, \n",
    "                x_step: torch.Tensor):\n",
    "        batch_size = state0.size(0)\n",
    "        force = torch.reshape(state0[:, 1],(batch_size, 1))\n",
    "        force = self.hidden_layer(force)\n",
    "        force = torch.relu(force)\n",
    "        force = self.output_layer(force) # output of network: force vector\n",
    "        # call physical solver \n",
    "        traj = self.solver_layer(state0, x_step, force)\n",
    "        return traj"
   ]
  },
  {
   "cell_type": "code",
   "execution_count": 5,
   "metadata": {},
   "outputs": [],
   "source": [
    "class PyhsicalLoss(torch.nn.Module):\n",
    "    def __init__(self):\n",
    "        super(PyhsicalLoss, self).__init__()\n",
    "    \n",
    "    def potential(self, sequence : torch.Tensor):\n",
    "        x2y2 = torch.square(sequence) # [x ^ 2, y ^ 2]\n",
    "        x2y2_sum = torch.sum(x2y2, -1) # [x ^ 2 + y ^ 2]\n",
    "        x2y2_subs = torch.sub(x2y2_sum, torch.Tensor([1.])) # [x ^ 2 + y ^ 2 -1]\n",
    "        return torch.square(x2y2_subs)# [(x ^ 2 + y ^ 2 -1) ^ 2]\n",
    "    \n",
    "    def forward(self, sequence: torch.Tensor):\n",
    "        potential_loss = self.potential(sequence)\n",
    "        return torch.sum(potential_loss)"
   ]
  },
  {
   "cell_type": "code",
   "execution_count": 6,
   "metadata": {},
   "outputs": [],
   "source": [
    "X_STEP = .1"
   ]
  },
  {
   "cell_type": "code",
   "execution_count": 7,
   "metadata": {},
   "outputs": [],
   "source": [
    "starting_points = torch.zeros((100,2))\n",
    "starting_points[:,0] = -1\n",
    "r1 = -.01\n",
    "r2 = .01\n",
    "starting_points[:,1] = torch.rand(100) * (r2 - r1) - r2"
   ]
  },
  {
   "cell_type": "code",
   "execution_count": 8,
   "metadata": {},
   "outputs": [],
   "source": [
    "solver_involved_network = DiffPyhsicsModel()\n",
    "physical_loss = PyhsicalLoss()\n",
    "optimizer_1 = torch.optim.Adam(solver_involved_network.parameters(), lr=1e-2)"
   ]
  },
  {
   "cell_type": "code",
   "execution_count": 9,
   "metadata": {},
   "outputs": [],
   "source": [
    "# model_weights = solver_involved_network.state_dict()\n",
    "# for name, weight in model_weights.items():\n",
    "#     print(f\"Parameter: {name}, Shape: {weight.shape}\")\n",
    "#     print(weight)"
   ]
  },
  {
   "cell_type": "code",
   "execution_count": 10,
   "metadata": {},
   "outputs": [],
   "source": [
    "batch_size = 5"
   ]
  },
  {
   "cell_type": "code",
   "execution_count": 11,
   "metadata": {},
   "outputs": [
    {
     "name": "stdout",
     "output_type": "stream",
     "text": [
      "Epoch: 100 loss: 0.0015184017829596996\n",
      "Epoch: 200 loss: 0.0004519923240877688\n",
      "Epoch: 300 loss: 0.011825203895568848\n",
      "Epoch: 400 loss: 0.000106347470136825\n",
      "Epoch: 500 loss: 0.05506988614797592\n",
      "Epoch: 600 loss: 0.0011420208029448986\n",
      "Epoch: 700 loss: 0.0035523558035492897\n",
      "Epoch: 800 loss: 0.0029998966492712498\n",
      "Epoch: 900 loss: 0.0016903365030884743\n",
      "Epoch: 1000 loss: 0.00179069465957582\n",
      "Epoch: 1100 loss: 0.007093784864991903\n",
      "Epoch: 1200 loss: 0.006053596269339323\n",
      "Epoch: 1300 loss: 0.00010001278133131564\n",
      "Epoch: 1400 loss: 1.7146230675280094e-06\n",
      "Epoch: 1500 loss: 0.0009386375895701349\n"
     ]
    }
   ],
   "source": [
    "for i in range(1500):\n",
    "    for j in range(0, len(starting_points), batch_size):\n",
    "        traj_pred = solver_involved_network(starting_points[j:j+batch_size], 20, torch.tensor(X_STEP))\n",
    "        loss = physical_loss(traj_pred)\n",
    "        optimizer_1.zero_grad()\n",
    "        loss.backward()\n",
    "        optimizer_1.step()\n",
    "    if(i + 1) % 100 == 0:\n",
    "        print(f\"Epoch: {i + 1} loss: {loss}\")"
   ]
  },
  {
   "cell_type": "code",
   "execution_count": 13,
   "metadata": {},
   "outputs": [],
   "source": [
    "s0 = torch.tensor([[-1, 0.08]])\n",
    "with torch.no_grad():\n",
    "    predicted_traj = solver_involved_network(s0, 20, torch.tensor(0.1))"
   ]
  },
  {
   "cell_type": "code",
   "execution_count": 17,
   "metadata": {},
   "outputs": [],
   "source": []
  },
  {
   "cell_type": "code",
   "execution_count": 18,
   "metadata": {},
   "outputs": [
    {
     "data": {
      "text/plain": [
       "<matplotlib.colorbar.Colorbar at 0x13fb7fe90>"
      ]
     },
     "execution_count": 18,
     "metadata": {},
     "output_type": "execute_result"
    },
    {
     "data": {
      "image/png": "[encoded data removed]",
      "text/plain": [
       "<Figure size 640x480 with 2 Axes>"
      ]
     },
     "metadata": {},
     "output_type": "display_data"
    }
   ],
   "source": [
    "x,y = np.meshgrid(np.linspace(-1, 1, 100), np.linspace(-1, 1, 100))\n",
    "z = (x ** 2 + y ** 2  - 1) ** 2\n",
    "plt.imshow(z, extent = [-1.2, 1.2, -1.2, 1.2])\n",
    "plt.plot(predicted_traj[:, :, 0][0], predicted_traj[:, :, 1][0])\n",
    "plt.colorbar()"
   ]
  },
  {
   "cell_type": "code",
   "execution_count": 4,
   "metadata": {},
   "outputs": [],
   "source": [
    "starting_points = torch.zeros((100,2))\n",
    "starting_points[:,0] = -1\n",
    "r1 = -.01\n",
    "r2 = .01\n",
    "starting_points[:,1] = torch.rand(100) * (r2 - r1) - r2"
   ]
  },
  {
   "cell_type": "code",
   "execution_count": 7,
   "metadata": {},
   "outputs": [],
   "source": [
    "batch_size = starting_points.size(0)\n",
    "del_x = torch.tensor(.1)\n",
    "# num_steps = force_vec.size(1)\n",
    "traj = torch.zeros((batch_size, 20 + 1, 2))\n",
    "traj[:, 0] = starting_points\n",
    "\n",
    "for i in range(20):\n",
    "    traj[:, i + 1, 0] = traj[:, i, 0] + del_x.unsqueeze(0)\n",
    "    traj[:, i + 1, 1] = traj[:, i, 1] + del_x.unsqueeze(0)"
   ]
  },
  {
   "cell_type": "code",
   "execution_count": 11,
   "metadata": {},
   "outputs": [],
   "source": [
    "traj[:, 1, 0] = traj[:, i, 0] + del_x.unsqueeze(0)"
   ]
  },
  {
   "cell_type": "code",
   "execution_count": 13,
   "metadata": {},
   "outputs": [
    {
     "data": {
      "text/plain": [
       "tensor([[[-1.0000e+00,  6.7848e-03],\n",
       "         [ 1.0000e+00,  1.0678e-01],\n",
       "         [-8.0000e-01,  2.0678e-01],\n",
       "         ...,\n",
       "         [ 8.0000e-01,  1.8068e+00],\n",
       "         [ 9.0000e-01,  1.9068e+00],\n",
       "         [ 1.0000e+00,  2.0068e+00]],\n",
       "\n",
       "        [[-1.0000e+00,  4.5059e-04],\n",
       "         [ 1.0000e+00,  1.0045e-01],\n",
       "         [-8.0000e-01,  2.0045e-01],\n",
       "         ...,\n",
       "         [ 8.0000e-01,  1.8005e+00],\n",
       "         [ 9.0000e-01,  1.9005e+00],\n",
       "         [ 1.0000e+00,  2.0005e+00]],\n",
       "\n",
       "        [[-1.0000e+00,  4.1140e-03],\n",
       "         [ 1.0000e+00,  1.0411e-01],\n",
       "         [-8.0000e-01,  2.0411e-01],\n",
       "         ...,\n",
       "         [ 8.0000e-01,  1.8041e+00],\n",
       "         [ 9.0000e-01,  1.9041e+00],\n",
       "         [ 1.0000e+00,  2.0041e+00]],\n",
       "\n",
       "        ...,\n",
       "\n",
       "        [[-1.0000e+00,  9.7874e-03],\n",
       "         [ 1.0000e+00,  1.0979e-01],\n",
       "         [-8.0000e-01,  2.0979e-01],\n",
       "         ...,\n",
       "         [ 8.0000e-01,  1.8098e+00],\n",
       "         [ 9.0000e-01,  1.9098e+00],\n",
       "         [ 1.0000e+00,  2.0098e+00]],\n",
       "\n",
       "        [[-1.0000e+00,  9.4901e-03],\n",
       "         [ 1.0000e+00,  1.0949e-01],\n",
       "         [-8.0000e-01,  2.0949e-01],\n",
       "         ...,\n",
       "         [ 8.0000e-01,  1.8095e+00],\n",
       "         [ 9.0000e-01,  1.9095e+00],\n",
       "         [ 1.0000e+00,  2.0095e+00]],\n",
       "\n",
       "        [[-1.0000e+00, -3.0725e-03],\n",
       "         [ 1.0000e+00,  9.6928e-02],\n",
       "         [-8.0000e-01,  1.9693e-01],\n",
       "         ...,\n",
       "         [ 8.0000e-01,  1.7969e+00],\n",
       "         [ 9.0000e-01,  1.8969e+00],\n",
       "         [ 1.0000e+00,  1.9969e+00]]])"
      ]
     },
     "execution_count": 13,
     "metadata": {},
     "output_type": "execute_result"
    }
   ],
   "source": [
    "traj"
   ]
  },
  {
   "cell_type": "code",
   "execution_count": 16,
   "metadata": {},
   "outputs": [
    {
     "data": {
      "text/plain": [
       "100"
      ]
     },
     "execution_count": 16,
     "metadata": {},
     "output_type": "execute_result"
    }
   ],
   "source": [
    "starting_points.size(0)"
   ]
  },
  {
   "cell_type": "code",
   "execution_count": 10,
   "metadata": {},
   "outputs": [
    {
     "data": {
      "text/plain": [
       "tensor([[[0., 0.],\n",
       "         [0., 0.],\n",
       "         [0., 0.],\n",
       "         ...,\n",
       "         [0., 0.],\n",
       "         [0., 0.],\n",
       "         [0., 0.]],\n",
       "\n",
       "        [[0., 0.],\n",
       "         [0., 0.],\n",
       "         [0., 0.],\n",
       "         ...,\n",
       "         [0., 0.],\n",
       "         [0., 0.],\n",
       "         [0., 0.]],\n",
       "\n",
       "        [[0., 0.],\n",
       "         [0., 0.],\n",
       "         [0., 0.],\n",
       "         ...,\n",
       "         [0., 0.],\n",
       "         [0., 0.],\n",
       "         [0., 0.]],\n",
       "\n",
       "        ...,\n",
       "\n",
       "        [[0., 0.],\n",
       "         [0., 0.],\n",
       "         [0., 0.],\n",
       "         ...,\n",
       "         [0., 0.],\n",
       "         [0., 0.],\n",
       "         [0., 0.]],\n",
       "\n",
       "        [[0., 0.],\n",
       "         [0., 0.],\n",
       "         [0., 0.],\n",
       "         ...,\n",
       "         [0., 0.],\n",
       "         [0., 0.],\n",
       "         [0., 0.]],\n",
       "\n",
       "        [[0., 0.],\n",
       "         [0., 0.],\n",
       "         [0., 0.],\n",
       "         ...,\n",
       "         [0., 0.],\n",
       "         [0., 0.],\n",
       "         [0., 0.]]])"
      ]
     },
     "execution_count": 10,
     "metadata": {},
     "output_type": "execute_result"
    }
   ],
   "source": [
    "traj = torch.zeros((100, 20 +1 ,2))\n",
    "traj"
   ]
  },
  {
   "cell_type": "code",
   "execution_count": 13,
   "metadata": {},
   "outputs": [
    {
     "data": {
      "text/plain": [
       "torch.Size([100, 21, 2])"
      ]
     },
     "execution_count": 13,
     "metadata": {},
     "output_type": "execute_result"
    }
   ],
   "source": [
    "traj.shape"
   ]
  },
  {
   "cell_type": "code",
   "execution_count": 15,
   "metadata": {},
   "outputs": [],
   "source": [
    "traj[:, 0,: ] = starting_points"
   ]
  },
  {
   "cell_type": "code",
   "execution_count": 16,
   "metadata": {},
   "outputs": [
    {
     "data": {
      "text/plain": [
       "tensor([[[-1.0000, -0.0088],\n",
       "         [ 0.0000,  0.0000],\n",
       "         [ 0.0000,  0.0000],\n",
       "         ...,\n",
       "         [ 0.0000,  0.0000],\n",
       "         [ 0.0000,  0.0000],\n",
       "         [ 0.0000,  0.0000]],\n",
       "\n",
       "        [[-1.0000, -0.0089],\n",
       "         [ 0.0000,  0.0000],\n",
       "         [ 0.0000,  0.0000],\n",
       "         ...,\n",
       "         [ 0.0000,  0.0000],\n",
       "         [ 0.0000,  0.0000],\n",
       "         [ 0.0000,  0.0000]],\n",
       "\n",
       "        [[-1.0000,  0.0036],\n",
       "         [ 0.0000,  0.0000],\n",
       "         [ 0.0000,  0.0000],\n",
       "         ...,\n",
       "         [ 0.0000,  0.0000],\n",
       "         [ 0.0000,  0.0000],\n",
       "         [ 0.0000,  0.0000]],\n",
       "\n",
       "        ...,\n",
       "\n",
       "        [[-1.0000,  0.0013],\n",
       "         [ 0.0000,  0.0000],\n",
       "         [ 0.0000,  0.0000],\n",
       "         ...,\n",
       "         [ 0.0000,  0.0000],\n",
       "         [ 0.0000,  0.0000],\n",
       "         [ 0.0000,  0.0000]],\n",
       "\n",
       "        [[-1.0000, -0.0050],\n",
       "         [ 0.0000,  0.0000],\n",
       "         [ 0.0000,  0.0000],\n",
       "         ...,\n",
       "         [ 0.0000,  0.0000],\n",
       "         [ 0.0000,  0.0000],\n",
       "         [ 0.0000,  0.0000]],\n",
       "\n",
       "        [[-1.0000, -0.0059],\n",
       "         [ 0.0000,  0.0000],\n",
       "         [ 0.0000,  0.0000],\n",
       "         ...,\n",
       "         [ 0.0000,  0.0000],\n",
       "         [ 0.0000,  0.0000],\n",
       "         [ 0.0000,  0.0000]]])"
      ]
     },
     "execution_count": 16,
     "metadata": {},
     "output_type": "execute_result"
    }
   ],
   "source": [
    "traj"
   ]
  },
  {
   "cell_type": "code",
   "execution_count": 10,
   "metadata": {},
   "outputs": [
    {
     "data": {
      "text/plain": [
       "2"
      ]
     },
     "execution_count": 10,
     "metadata": {},
     "output_type": "execute_result"
    }
   ],
   "source": [
    "s0.size(0)"
   ]
  },
  {
   "cell_type": "code",
   "execution_count": 14,
   "metadata": {},
   "outputs": [
    {
     "data": {
      "text/plain": [
       "torch.Size([2])"
      ]
     },
     "execution_count": 14,
     "metadata": {},
     "output_type": "execute_result"
    }
   ],
   "source": [
    "s0.size()"
   ]
  },
  {
   "cell_type": "code",
   "execution_count": 15,
   "metadata": {},
   "outputs": [
    {
     "data": {
      "text/plain": [
       "torch.Size([2])"
      ]
     },
     "execution_count": 15,
     "metadata": {},
     "output_type": "execute_result"
    }
   ],
   "source": [
    "s0.shape"
   ]
  },
  {
   "cell_type": "code",
   "execution_count": null,
   "metadata": {},
   "outputs": [],
   "source": [
    "#[5, 21, 2]"
   ]
  },
  {
   "cell_type": "code",
   "execution_count": 36,
   "metadata": {},
   "outputs": [],
   "source": [
    "x = torch.tensor([[[1,2], [6,7], [11, 12]], [[3,4], [8,9], [10, 5]]])"
   ]
  },
  {
   "cell_type": "code",
   "execution_count": 40,
   "metadata": {},
   "outputs": [
    {
     "data": {
      "text/plain": [
       "torch.Size([2, 3, 2])"
      ]
     },
     "execution_count": 40,
     "metadata": {},
     "output_type": "execute_result"
    }
   ],
   "source": [
    "x.shape"
   ]
  },
  {
   "cell_type": "code",
   "execution_count": 37,
   "metadata": {},
   "outputs": [
    {
     "data": {
      "text/plain": [
       "tensor([[[  1,   4],\n",
       "         [ 36,  49],\n",
       "         [121, 144]],\n",
       "\n",
       "        [[  9,  16],\n",
       "         [ 64,  81],\n",
       "         [100,  25]]])"
      ]
     },
     "execution_count": 37,
     "metadata": {},
     "output_type": "execute_result"
    }
   ],
   "source": [
    "x2y2 = torch.square(x) # [x ^ 2, y ^ 2]\n",
    "x2y2"
   ]
  },
  {
   "cell_type": "code",
   "execution_count": 46,
   "metadata": {},
   "outputs": [
    {
     "data": {
      "text/plain": [
       "tensor([[  5,  85, 265],\n",
       "        [ 25, 145, 125]])"
      ]
     },
     "execution_count": 46,
     "metadata": {},
     "output_type": "execute_result"
    }
   ],
   "source": [
    "x2y2_sum = torch.sum(x2y2, -1) # [x ^ 2 + y ^ 2]\n",
    "x2y2_sum"
   ]
  },
  {
   "cell_type": "code",
   "execution_count": 47,
   "metadata": {},
   "outputs": [
    {
     "data": {
      "text/plain": [
       "tensor([[  4.,  84., 264.],\n",
       "        [ 24., 144., 124.]])"
      ]
     },
     "execution_count": 47,
     "metadata": {},
     "output_type": "execute_result"
    }
   ],
   "source": [
    "x2y2_subs = torch.sub(x2y2_sum, torch.Tensor([1.])) # [x ^ 2 + y ^ 2 -1]\n",
    "x2y2_subs"
   ]
  },
  {
   "cell_type": "code",
   "execution_count": 52,
   "metadata": {},
   "outputs": [
    {
     "data": {
      "text/plain": [
       "tensor(644.)"
      ]
     },
     "execution_count": 52,
     "metadata": {},
     "output_type": "execute_result"
    }
   ],
   "source": [
    "ss = torch.sum(x2y2_subs)# [(x ^ 2 + y ^ 2 -1) ^ 2]\n",
    "ss"
   ]
  },
  {
   "cell_type": "code",
   "execution_count": 51,
   "metadata": {},
   "outputs": [
    {
     "data": {
      "text/plain": [
       "tensor(113456.)"
      ]
     },
     "execution_count": 51,
     "metadata": {},
     "output_type": "execute_result"
    }
   ],
   "source": [
    "torch.sum(ss)"
   ]
  },
  {
   "cell_type": "code",
   "execution_count": null,
   "metadata": {},
   "outputs": [],
   "source": []
  }
 ],
 "metadata": {
  "kernelspec": {
   "display_name": "torch",
   "language": "python",
   "name": "python3"
  },
  "language_info": {
   "codemirror_mode": {
    "name": "ipython",
    "version": 3
   },
   "file_extension": ".py",
   "mimetype": "text/x-python",
   "name": "python",
   "nbconvert_exporter": "python",
   "pygments_lexer": "ipython3",
   "version": "3.11.3"
  },
  "orig_nbformat": 4
 },
 "nbformat": 4,
 "nbformat_minor": 2
}
