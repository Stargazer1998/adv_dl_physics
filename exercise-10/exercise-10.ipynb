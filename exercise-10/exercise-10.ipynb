{
 "cells": [
  {
   "cell_type": "code",
   "execution_count": 1,
   "metadata": {},
   "outputs": [],
   "source": [
    "from phi.torch.flow import * \n",
    "import matplotlib.pyplot as plt\n",
    "from matplotlib import colors\n",
    "import numpy as np \n",
    "import torch.nn as nn\n",
    "from torch.nn.functional import relu as relu\n",
    "import time"
   ]
  },
  {
   "attachments": {},
   "cell_type": "markdown",
   "metadata": {},
   "source": [
    "## (1) Solver implementation\n",
    "\n",
    "* using provided solution"
   ]
  },
  {
   "cell_type": "code",
   "execution_count": 2,
   "metadata": {},
   "outputs": [],
   "source": [
    "class DifferentiableKS():\n",
    "    def __init__(self, resolution, domain_size, dt):\n",
    "        self.resolution = resolution\n",
    "        self.domain_size = domain_size\n",
    "        self.dt = dt\n",
    "        self.dx = domain_size/resolution\n",
    "        \n",
    "        # Matrices for exp. timestepping\n",
    "        self.wavenumbers = math.fftfreq(math.spatial(x=resolution), self.dx).vector[0] * 1j\n",
    "        self.L_mat = -self.wavenumbers**2-self.wavenumbers**4\n",
    "        self.exp_lin = math.exp(self.L_mat * dt)\n",
    "        self.nonlinear_coef_1 = math.divide_no_nan((self.exp_lin - 1) , self.L_mat)\n",
    "        self.nonlinear_coef_1 = math.where(self.nonlinear_coef_1==0, self.dt, self.nonlinear_coef_1)\n",
    "        self.nonlinear_coef_2 = math.divide_no_nan((self.exp_lin - 1 - self.L_mat*self.dt), (self.dt * self.L_mat**2))\n",
    "        self.nonlinear_coef_2 = math.where(self.nonlinear_coef_2==0, self.dt/2, self.nonlinear_coef_2)\n",
    "\n",
    "    def etrk2(self, u):\n",
    "        nonlin_current = self.calc_nonlinear(u)\n",
    "        u_interm = self.exp_lin * math.fft(u) + nonlin_current*self.nonlinear_coef_1\n",
    "        u_new  = u_interm + (self.calc_nonlinear(math.real(math.ifft(tensor(u_interm,u.shape)))) +\n",
    "                 - nonlin_current) * self.nonlinear_coef_2\n",
    "        return math.real(math.ifft(tensor(u_new,u.shape))) \n",
    "        \n",
    "    def calc_nonlinear(self,u):\n",
    "        return -0.5*self.wavenumbers*math.fft(u**2)\n",
    "\n",
    "with math.precision(32):\n",
    "    diff_ks = DifferentiableKS(resolution=50, domain_size=10, dt=1/2)\n"
   ]
  },
  {
   "attachments": {},
   "cell_type": "markdown",
   "metadata": {},
   "source": [
    "## (2) Dataset generation"
   ]
  },
  {
   "cell_type": "code",
   "execution_count": 3,
   "metadata": {},
   "outputs": [],
   "source": [
    "# to make it compatible with Torch \n",
    "with math.precision(32):\n",
    "    x = diff_ks.domain_size*math.tensor(np.arange(0,diff_ks.resolution),\n",
    "                                        spatial('x'))/diff_ks.resolution \n",
    "    u_dataset_init = [math.cos(2*x) +0.1*math.cos(2*math.PI*x/diff_ks.domain_size)*(1-2*math.sin(2*math.PI*x/diff_ks.domain_size)),\n",
    "                      math.cos(2*x) +0.1*math.cos(2*math.PI*x/diff_ks.domain_size)*(1-1*math.sin(2*math.PI*x/diff_ks.domain_size)),\n",
    "                      math.cos(2*x) -0.1*math.cos(2*math.PI*x/diff_ks.domain_size)*(1+2*math.sin(2*math.PI*x/diff_ks.domain_size)),\n",
    "                      math.cos(2*x) +0.1*math.cos(2*math.PI*x/diff_ks.domain_size)*(1-3*math.sin(2*math.PI*x/diff_ks.domain_size)),\n",
    "                      math.cos(2*x) +0.1*math.cos(2*math.PI*x/diff_ks.domain_size)*(1-8*math.sin(2*math.PI*x/diff_ks.domain_size)),\n",
    "                      math.cos(2*x) -0.1*math.cos(2*math.PI*x/diff_ks.domain_size)*(1+4*math.sin(2*math.PI*x/diff_ks.domain_size)),]\n",
    "\n",
    "    u_dataset_init = [math.expand(u, batch(b=1)) for u in u_dataset_init]\n",
    "    u_dataset_init = math.concat(u_dataset_init, batch('b'))\n",
    "\n",
    "    # Exponential timestepping with RK2\n",
    "    u_traj = [u_dataset_init]\n",
    "    u_iter = u_dataset_init\n",
    "    nonlin_iter = diff_ks.calc_nonlinear(u_dataset_init)\n",
    "    for i in range(8000):\n",
    "        u_iter = diff_ks.etrk2(u_iter)\n",
    "        u_traj.append(u_iter)\n",
    "\n",
    "u_traj = tensor(u_traj,instance('time') , u_iter.shape)\n",
    "# np.savez('/Users/safayilmaz/Desktop/adv_dl/Exercises/adv_dl_physics/exercise-10', u_traj)\n"
   ]
  },
  {
   "cell_type": "code",
   "execution_count": 4,
   "metadata": {},
   "outputs": [
    {
     "data": {
      "text/plain": [
       "(bᵇ=6, timeⁱ=8001, xˢ=50)"
      ]
     },
     "execution_count": 4,
     "metadata": {},
     "output_type": "execute_result"
    }
   ],
   "source": [
    "u_traj.shape"
   ]
  },
  {
   "cell_type": "code",
   "execution_count": 23,
   "metadata": {},
   "outputs": [],
   "source": [
    "class ConvResNet(nn.Module):\n",
    "    '''\n",
    "input ---> conv_1 ---> conv_2 ---> conv_3 ---> conv_4 ---> conv_5 ---> conv_6-->\n",
    "     ^                        ^  ^                    ^  ^                    ^ \n",
    "     |                        |  |                    |  |                    | \n",
    "     |                        |  |                    |  |                    | \n",
    "     |                        |  |                    |  |                    | \n",
    "      ------------------------    --------------------    --------------------  \n",
    "        Skip-Connection 1          Skip-Connection 2       Skip-Connection 3\n",
    "           \n",
    "--> conv_7 ---> conv_8 ---> conv_9 ---> conv_10 --> conv_11 ---> output\n",
    "^                    ^  ^                    ^\n",
    "|                    |  |                    | \n",
    "|                    |  |                    |\n",
    "|                    |  |                    |\n",
    " --------------------    --------------------\n",
    " Skip-Connection 4        Skip-Connection 5\n",
    "    '''\n",
    "    def __init__(self):\n",
    "\n",
    "        super(ConvResNet, self).__init__()\n",
    "        self.relu = nn.ReLU()\n",
    "        self.conv_1 = nn.Conv1d(in_channels=1, out_channels=4, \n",
    "                                kernel_size=3,stride=1, padding=1, \n",
    "                                padding_mode='circular')\n",
    "        self.conv_2 = nn.Conv1d(in_channels=4, out_channels=16, \n",
    "                                kernel_size=3,stride=1, padding=1, \n",
    "                                padding_mode='circular')\n",
    "        self.skip_connection_1 = nn.Conv1d(1,16, 1, 1)\n",
    "\n",
    "        self.conv_3 = nn.Conv1d(16,32,3,stride=1, padding=1, \n",
    "                                padding_mode='circular')\n",
    "        self.conv_4 = nn.Conv1d(32,32,3,stride=1, padding=1, \n",
    "                                padding_mode='circular')\n",
    "        self.skip_connection_2 = nn.Conv1d(16, 32, 1,1)\n",
    "\n",
    "        self.conv_5 = nn.Conv1d(32,32,3,stride=1, padding=1, \n",
    "                                padding_mode='circular')\n",
    "        self.conv_6 = nn.Conv1d(32,32,3,stride=1, padding=1, \n",
    "                                padding_mode='circular')\n",
    "        self.skip_connection_3 = nn.Conv1d(32, 32, 1, 1)\n",
    "\n",
    "        self.conv_7 = nn.Conv1d(32,16,3,stride=1, padding=1, \n",
    "                                padding_mode='circular')\n",
    "        self.conv_8 = nn.Conv1d(16,8,3,stride=1, padding=1, \n",
    "                                padding_mode='circular')\n",
    "        self.skip_connection_4 = nn.Conv1d(32, 8, 1, 1)\n",
    "\n",
    "        self.conv_9 = nn.Conv1d(8,8,3,stride=1, padding=1, \n",
    "                                padding_mode='circular')\n",
    "        self.conv_10 = nn.Conv1d(8,4,3,stride=1, padding=1, \n",
    "                                 padding_mode='circular')\n",
    "        self.skip_connection_5 = nn.Conv1d(8, 4, 1, 1)\n",
    "\n",
    "        self.conv_11 = nn.Conv1d(4, 1, 3, stride=1, padding=1, \n",
    "                                 padding_mode='circular')\n",
    "        # self.fc_layer = nn.Linear(50, 50)\n",
    "\n",
    "    def forward(self,x):\n",
    "\n",
    "        x1 = self.conv_1(x)\n",
    "        x1 = relu(x1)\n",
    "        x1 = self.conv_2(x1)\n",
    "        x1 = relu(x1)\n",
    "        # += does not work ? \n",
    "        x1 = x1 + self.skip_connection_1(x)\n",
    "\n",
    "        x2 = self.conv_3(x1)\n",
    "        x2 = relu(x2)\n",
    "        x2 = self.conv_4(x2)\n",
    "        x2 = relu(x2)\n",
    "        x2 = x2 + self.skip_connection_2(x1)\n",
    "\n",
    "        x3 = self.conv_5(x2)\n",
    "        x3 = relu(x3)\n",
    "        x3 = self.conv_6(x3)\n",
    "        x3 = relu(x3)\n",
    "        x3 = x3 + self.skip_connection_3(x2)\n",
    "\n",
    "        x4 = self.conv_7(x3)\n",
    "        x4 = relu(x4)\n",
    "        x4 = self.conv_8(x4)\n",
    "        x4 = relu(x4)\n",
    "        x4 = x4 +  self.skip_connection_4(x3)\n",
    "\n",
    "        x5 = self.conv_9(x4)\n",
    "        x5 = relu(x5)\n",
    "        x5 = self.conv_10(x5)\n",
    "        x5 = relu(x5)\n",
    "        x5 = x5 + self.skip_connection_5(x4)\n",
    "        return self.conv_11(x5)"
   ]
  },
  {
   "cell_type": "code",
   "execution_count": 6,
   "metadata": {},
   "outputs": [],
   "source": [
    "network = ConvResNet()"
   ]
  },
  {
   "cell_type": "code",
   "execution_count": 7,
   "metadata": {},
   "outputs": [
    {
     "data": {
      "text/plain": [
       "15293"
      ]
     },
     "execution_count": 7,
     "metadata": {},
     "output_type": "execute_result"
    }
   ],
   "source": [
    "# check if network is \"deep\" enough\n",
    "total_params = sum(param.numel() for param in network.parameters())\n",
    "total_params"
   ]
  },
  {
   "cell_type": "code",
   "execution_count": 8,
   "metadata": {},
   "outputs": [
    {
     "data": {
      "text/plain": [
       "\u001b[92m(bᵇ=6, xˢ=50)\u001b[0m \u001b[94m0.051 ± 0.744\u001b[0m \u001b[37m(-1e+00...1e+00)\u001b[0m"
      ]
     },
     "execution_count": 8,
     "metadata": {},
     "output_type": "execute_result"
    }
   ],
   "source": [
    "u_initial = u_traj.time[0]\n",
    "u_initial"
   ]
  },
  {
   "cell_type": "code",
   "execution_count": 9,
   "metadata": {},
   "outputs": [],
   "source": [
    "# u_initial = CenteredGrid(u_initial)\n",
    "# u_initial\n",
    "# math.native_call(network, u_traj.time[0])"
   ]
  },
  {
   "cell_type": "code",
   "execution_count": 10,
   "metadata": {},
   "outputs": [
    {
     "name": "stdout",
     "output_type": "stream",
     "text": [
      "step : 0, loss : \u001b[94m192.35576\u001b[0m\n",
      "step : 1000, loss : \u001b[94m0.05829664\u001b[0m\n",
      "step : 2000, loss : \u001b[94m0.03346113\u001b[0m\n",
      "step : 3000, loss : \u001b[94m0.03295094\u001b[0m\n",
      "step : 4000, loss : \u001b[94m0.029042438\u001b[0m\n",
      "step : 5000, loss : \u001b[94m0.02242775\u001b[0m\n",
      "step : 6000, loss : \u001b[94m0.020109158\u001b[0m\n",
      "step : 7000, loss : \u001b[94m0.022909693\u001b[0m\n",
      "Final loss: \u001b[94m0.025774602\u001b[0m\n",
      "total time: 71.11740803718567\n"
     ]
    }
   ],
   "source": [
    "num_time_steps = 8000\n",
    "optimizer = adam(network, learning_rate=1e-3)\n",
    "\n",
    "def loss_func(target, pred):\n",
    "    loss = 0\n",
    "    # print(f\"target shape: {target.shape}\")\n",
    "    \n",
    "    # prev time step \n",
    "    pred = math.native_call(network, target.time[0])\n",
    "    for i in range(2):\n",
    "        # print(f\"shape: {target.time[i+1].shape}\")\n",
    "        loss += math.l2_loss( pred - target.time[i+1])\n",
    "        # next time step prediction \n",
    "        pred = math.native_call(network, pred)\n",
    "\n",
    "    # sum along batches \n",
    "    return math.sum(loss,'b')\n",
    "\n",
    "start_time = time.time()\n",
    "pred = math.native_call(network, u_traj.time[0])\n",
    "for i in range(num_time_steps-4):\n",
    "    loss = update_weights(network, optimizer, loss_func, \n",
    "                          u_traj.time[i:i+3], pred)\n",
    "    if( i %1000==0):\n",
    "        print(f'step : {i}, loss : {loss}')\n",
    "end_time = time.time()\n",
    "print(f\"Final loss: {loss}\")\n",
    "print(f\"total time: {end_time - start_time}\")"
   ]
  },
  {
   "attachments": {},
   "cell_type": "markdown",
   "metadata": {},
   "source": [
    "* to assess the network performance we can use some sampled data and track the same loss that we have already used during training "
   ]
  },
  {
   "cell_type": "code",
   "execution_count": 11,
   "metadata": {},
   "outputs": [
    {
     "data": {
      "text/plain": [
       "\u001b[92m(timeⁱ=801, xˢ=50)\u001b[0m \u001b[94m0.051 ± 1.310\u001b[0m \u001b[37m(-3e+00...3e+00)\u001b[0m"
      ]
     },
     "execution_count": 11,
     "metadata": {},
     "output_type": "execute_result"
    }
   ],
   "source": [
    "with math.precision(32):\n",
    "    x = diff_ks.domain_size*math.tensor(np.arange(0,diff_ks.resolution),\n",
    "                                        spatial('x'))/diff_ks.resolution \n",
    "    # use 5 ,which has not been used yet\n",
    "    u_dataset_test = [math.cos(2*x) +0.1*\n",
    "                      math.cos(2*math.PI*x/diff_ks.domain_size)*(\n",
    "                          1-5*math.sin(2*math.PI*x/diff_ks.domain_size))]\n",
    "\n",
    "    u_dataset_test = [math.expand(u, batch(b=1)) for u in u_dataset_test]\n",
    "    u_dataset_test = math.concat(u_dataset_test, batch('b'))\n",
    "\n",
    "    # Exponential timestepping with RK2\n",
    "    u_traj = [u_dataset_test]\n",
    "    u_iter = u_dataset_test\n",
    "    nonlin_iter = diff_ks.calc_nonlinear(u_dataset_test)\n",
    "    for i in range(800):\n",
    "        u_iter = diff_ks.etrk2(u_iter)\n",
    "        u_traj.append(u_iter)\n",
    "\n",
    "u_test = tensor(u_traj,instance('time') , u_iter.shape)\n",
    "u_test = u_test.b[0]\n",
    "u_test"
   ]
  },
  {
   "cell_type": "code",
   "execution_count": 12,
   "metadata": {},
   "outputs": [
    {
     "name": "stdout",
     "output_type": "stream",
     "text": [
      "shape of initial point: (xˢ=50)\n"
     ]
    },
    {
     "data": {
      "text/plain": [
       "(timeˢ=801, xˢ=50)"
      ]
     },
     "execution_count": 12,
     "metadata": {},
     "output_type": "execute_result"
    }
   ],
   "source": [
    "# use the network to obtain first 800 time steps to \n",
    "# make the comparision compatible \n",
    "u0 = u_test.time[0]\n",
    "with torch.no_grad():\n",
    "    u_pred = math.native_call(network, u0)\n",
    "print(f\"shape of initial point: {u_pred.shape}\")\n",
    "u_traj_pred = math.expand(u_pred, spatial('time'))\n",
    "for _ in range(800):\n",
    "    with torch.no_grad():\n",
    "        # from prev step predict the next time step\n",
    "        u_pred = math.native_call(network, u_pred) \n",
    "        u_traj_pred = math.concat([u_traj_pred, \n",
    "                                   math.expand(u_pred, spatial('time'))], 'time')   \n",
    "u_traj_pred.shape"
   ]
  },
  {
   "cell_type": "code",
   "execution_count": 1,
   "metadata": {},
   "outputs": [
    {
     "ename": "NameError",
     "evalue": "name 'u_test' is not defined",
     "output_type": "error",
     "traceback": [
      "\u001b[0;31m---------------------------------------------------------------------------\u001b[0m",
      "\u001b[0;31mNameError\u001b[0m                                 Traceback (most recent call last)",
      "Cell \u001b[0;32mIn[1], line 3\u001b[0m\n\u001b[1;32m      1\u001b[0m \u001b[39m# extent = [left, right, bottom, top]\u001b[39;00m\n\u001b[1;32m      2\u001b[0m \u001b[39m# actual solution \u001b[39;00m\n\u001b[0;32m----> 3\u001b[0m u_test_plot \u001b[39m=\u001b[39m u_test\u001b[39m.\u001b[39mnumpy(order \u001b[39m=\u001b[39m \u001b[39m'\u001b[39m\u001b[39mtime, x\u001b[39m\u001b[39m'\u001b[39m)\n\u001b[1;32m      4\u001b[0m u_pred_plot \u001b[39m=\u001b[39m u_traj_pred\u001b[39m.\u001b[39mnumpy(order \u001b[39m=\u001b[39m \u001b[39m'\u001b[39m\u001b[39mtime, x\u001b[39m\u001b[39m'\u001b[39m)\n\u001b[1;32m      5\u001b[0m fig1, ax1 \u001b[39m=\u001b[39m plt\u001b[39m.\u001b[39msubplots(nrows\u001b[39m=\u001b[39m\u001b[39m1\u001b[39m)\n",
      "\u001b[0;31mNameError\u001b[0m: name 'u_test' is not defined"
     ]
    }
   ],
   "source": [
    "# extent = [left, right, bottom, top]\n",
    "# actual solution \n",
    "u_test_plot = u_test.numpy(order = 'time, x')\n",
    "u_pred_plot = u_traj_pred.numpy(order = 'time, x')\n",
    "fig1, ax1 = plt.subplots(nrows=1)\n",
    "ax1.set_title('Actual Solution')\n",
    "ax1.imshow(np.transpose(u_test_plot), extent = [0, 800, 0, 50])\n",
    "fig2, ax2 = plt.subplots(nrows=1, figsize=(15, 15))\n",
    "ax2.set_title('Network Solution')\n",
    "ax2.imshow(np.transpose(u_pred_plot), extent = [0, 800, 0, 50])\n",
    "plt.subplots_adjust(hspace=0)"
   ]
  },
  {
   "cell_type": "code",
   "execution_count": 14,
   "metadata": {},
   "outputs": [],
   "source": [
    "# what about L2 loss \n",
    "loss_traj = list()\n",
    "for i in range(800):\n",
    "    loss = math.l2_loss(u_test.time[i] - u_traj_pred.time[i])\n",
    "    loss_traj.append(loss.numpy())"
   ]
  },
  {
   "cell_type": "code",
   "execution_count": 17,
   "metadata": {},
   "outputs": [
    {
     "data": {
      "text/plain": [
       "[<matplotlib.lines.Line2D at 0x16bf10d10>]"
      ]
     },
     "execution_count": 17,
     "metadata": {},
     "output_type": "execute_result"
    },
    {
     "data": {
      "image/png": "[encoded data removed]",
      "text/plain": [
       "<Figure size 640x480 with 1 Axes>"
      ]
     },
     "metadata": {},
     "output_type": "display_data"
    }
   ],
   "source": [
    "fig1, ax1 = plt.subplots()\n",
    "ax1.set_title('L2 Loss')\n",
    "ax1.plot(loss_traj)"
   ]
  },
  {
   "attachments": {},
   "cell_type": "markdown",
   "metadata": {},
   "source": [
    "* As it  can be seen from the figures above, both solutions follow a similar pattern during the beginning of the simulation but as time passes we can not see this behavior. We cannot blame the network for this patterns since **Residual Blocks** are used to prevent the drawbacks of the **deeper** CNNs. Thus, as it is the case in the Ex-7, supervised training does not ensure to reflect the nature of the problem itself"
   ]
  }
 ],
 "metadata": {
  "kernelspec": {
   "display_name": "Python 3.10.4 ('adl4ph')",
   "language": "python",
   "name": "python3"
  },
  "language_info": {
   "codemirror_mode": {
    "name": "ipython",
    "version": 3
   },
   "file_extension": ".py",
   "mimetype": "text/x-python",
   "name": "python",
   "nbconvert_exporter": "python",
   "pygments_lexer": "ipython3",
   "version": "3.11.3"
  },
  "orig_nbformat": 4,
  "vscode": {
   "interpreter": {
    "hash": "fded511e497bf76df00babcdc525b5ba9a75b2db65a18e8f38840ddce1171016"
   }
  }
 },
 "nbformat": 4,
 "nbformat_minor": 2
}
