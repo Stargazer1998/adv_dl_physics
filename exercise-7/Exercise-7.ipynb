{
 "cells": [
  {
   "cell_type": "code",
   "execution_count": 1,
   "metadata": {},
   "outputs": [],
   "source": [
    "from phi.torch.flow import* "
   ]
  },
  {
   "cell_type": "code",
   "execution_count": 2,
   "metadata": {},
   "outputs": [],
   "source": [
    "def potential(tracj : Tensor):\n",
    "    x2y2 = torch.square(tracj) # [x ^ 2, y ^ 2]\n",
    "    x2y2_sum = torch.sum(x2y2, 1) # [x ^ 2 + y ^ 2]\n",
    "    t = torch.sub(x2y2_sum, torch.Tensor([1.])) # [x ^ 2 + y ^ 2 - 1]\n",
    "    return torch.sum(torch.square(t)) #  [x ^ 2 + y ^ 2 - 1] ^ 2"
   ]
  },
  {
   "cell_type": "code",
   "execution_count": 3,
   "metadata": {},
   "outputs": [],
   "source": [
    "def diff_solver(starting_point, del_x, num_steps):\n",
    "    traj = np.zeros((num_steps + 1, 2))\n",
    "    traj[0] = starting_point\n",
    "    forces = np.zeros(num_steps)\n",
    "    for i in range(num_steps):\n",
    "        forces[i] = np.random.uniform(low = -0.1, high = 0.1)\n",
    "        traj[i + 1] = [traj[i][0] + del_x, traj[i][1] + forces[i]]\n",
    "    return traj, forces"
   ]
  },
  {
   "cell_type": "code",
   "execution_count": 4,
   "metadata": {},
   "outputs": [],
   "source": [
    "def potential_loss(points: Tensor):\n",
    "    potentials = [potential(point[0], point[1]) for point in points]\n",
    "    return torch.sum(potentials)"
   ]
  },
  {
   "cell_type": "code",
   "execution_count": 6,
   "metadata": {},
   "outputs": [],
   "source": [
    "x0 = [-1, 0]\n",
    "del_x = .1\n",
    "N = 20"
   ]
  },
  {
   "cell_type": "code",
   "execution_count": 90,
   "metadata": {},
   "outputs": [],
   "source": [
    "potential_grad = math.functional_gradient(potential)"
   ]
  },
  {
   "cell_type": "code",
   "execution_count": 91,
   "metadata": {},
   "outputs": [],
   "source": [
    "def gd_momentum(x : Tensor, lr = 0.001,  num_steps = 1000):\n",
    "    for i in range(num_steps):\n",
    "        loss, (grad, ) = potential_grad(x)\n",
    "        if i == 10:\n",
    "            print(f\"{i}:\\t{loss:.4f}\")\n",
    "        x -= lr * grad\n",
    "    return x"
   ]
  },
  {
   "cell_type": "code",
   "execution_count": 7,
   "metadata": {},
   "outputs": [],
   "source": [
    "trajs, forces = diff_solver(x0, del_x, N)"
   ]
  },
  {
   "cell_type": "code",
   "execution_count": 10,
   "metadata": {},
   "outputs": [
    {
     "ename": "TypeError",
     "evalue": "expected np.ndarray (got list)",
     "output_type": "error",
     "traceback": [
      "\u001b[0;31m---------------------------------------------------------------------------\u001b[0m",
      "\u001b[0;31mTypeError\u001b[0m                                 Traceback (most recent call last)",
      "Cell \u001b[0;32mIn[10], line 1\u001b[0m\n\u001b[0;32m----> 1\u001b[0m trajs_tensor, forces_tensor \u001b[39m=\u001b[39m torch\u001b[39m.\u001b[39mfrom_numpy(trajs), torch\u001b[39m.\u001b[39mfrom_numpy(forces)\n",
      "\u001b[0;31mTypeError\u001b[0m: expected np.ndarray (got list)"
     ]
    }
   ],
   "source": [
    "trajs_tensor, forces_tensor = torch.from_numpy(trajs), torch.from_numpy(forces)"
   ]
  },
  {
   "cell_type": "code",
   "execution_count": 95,
   "metadata": {},
   "outputs": [],
   "source": [
    "loss, (grad,) = potential_grad(res_tensor)"
   ]
  },
  {
   "cell_type": "code",
   "execution_count": 97,
   "metadata": {},
   "outputs": [
    {
     "data": {
      "text/plain": [
       "tensor(10.5395, grad_fn=<SumBackward0>)"
      ]
     },
     "execution_count": 97,
     "metadata": {},
     "output_type": "execute_result"
    }
   ],
   "source": []
  },
  {
   "cell_type": "code",
   "execution_count": 12,
   "metadata": {},
   "outputs": [
    {
     "data": {
      "text/plain": [
       "array([0., 0., 0., 0., 0., 0., 0., 0., 0., 0.])"
      ]
     },
     "execution_count": 12,
     "metadata": {},
     "output_type": "execute_result"
    }
   ],
   "source": [
    "np.zeros(10)"
   ]
  },
  {
   "cell_type": "code",
   "execution_count": null,
   "metadata": {},
   "outputs": [],
   "source": []
  }
 ],
 "metadata": {
  "kernelspec": {
   "display_name": "torch",
   "language": "python",
   "name": "python3"
  },
  "language_info": {
   "codemirror_mode": {
    "name": "ipython",
    "version": 3
   },
   "file_extension": ".py",
   "mimetype": "text/x-python",
   "name": "python",
   "nbconvert_exporter": "python",
   "pygments_lexer": "ipython3",
   "version": "3.11.3"
  },
  "orig_nbformat": 4
 },
 "nbformat": 4,
 "nbformat_minor": 2
}
